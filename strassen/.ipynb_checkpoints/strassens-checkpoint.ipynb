{
 "cells": [
  {
   "cell_type": "code",
   "execution_count": 60,
   "id": "2962c9b5-ae70-427a-b652-bb21bc812a1d",
   "metadata": {},
   "outputs": [],
   "source": [
    "# This is a quick re-impl of Strassen's algorithm to understand it better\n",
    "# I should go back and really try to speed it up with C++ or something\n",
    "# It only has speedups on massively dense matrices - order 10^4\n",
    "\n",
    "# this is a great resource I used\n",
    "# https://stanford.edu/~rezab/classes/cme323/S16/notes/Lecture03/cme323_lec3.pdf\n",
    "# https://www.cs.cmu.edu/afs/cs/academic/class/15750-s17/ScribeNotes/lecture1.pdf\n",
    "# I plan on parallelizing"
   ]
  },
  {
   "cell_type": "code",
   "execution_count": 61,
   "id": "4a4080ee-08e5-42a8-9290-df6c2e0eb07c",
   "metadata": {},
   "outputs": [],
   "source": [
    "using LinearAlgebra"
   ]
  },
  {
   "cell_type": "code",
   "execution_count": 51,
   "id": "a30a1500-3ff0-43dd-92ea-8c2ed3f215ed",
   "metadata": {},
   "outputs": [
    {
     "data": {
      "text/plain": [
       "4×4 Matrix{Int64}:\n",
       " 1  0  1  1\n",
       " 0  0  0  1\n",
       " 0  1  1  1\n",
       " 0  1  1  1"
      ]
     },
     "execution_count": 51,
     "metadata": {},
     "output_type": "execute_result"
    }
   ],
   "source": [
    "# create a random matrix reference\n",
    "matrix = rand([0, 1], 4, 4)"
   ]
  },
  {
   "cell_type": "code",
   "execution_count": 56,
   "id": "8a3d2244-388f-4e1b-9583-acd05043119f",
   "metadata": {},
   "outputs": [
    {
     "data": {
      "text/plain": [
       "naive_strassens (generic function with 1 method)"
      ]
     },
     "execution_count": 56,
     "metadata": {},
     "output_type": "execute_result"
    }
   ],
   "source": [
    "# This is not actually Strassen's algorithm. Strassen's algorithm is recursive.\n",
    "function naive_strassens(A, B)\n",
    "    n, _ = size(A)\n",
    "    block_dim = Int64(n/2)\n",
    "\n",
    "    A_11 = A[1:block_dim, 1:block_dim]\n",
    "    A_12 = A[1:block_dim, block_dim+1:end]\n",
    "    A_21 = A[block_dim+1:end, 1:block_dim]\n",
    "    A_22 = A[block_dim+1:end, block_dim+1:end]\n",
    "\n",
    "    B_11 = B[1:block_dim, 1:block_dim]\n",
    "    B_12 = B[1:block_dim, block_dim+1:end]\n",
    "    B_21 = B[block_dim+1:end, 1:block_dim]\n",
    "    B_22 = B[block_dim+1:end, block_dim+1:end]\n",
    "    \n",
    "    M_1 = (A_11 + A_22) * (B_11 + B_22)\n",
    "    M_2 = (A_21 + A_22) * B_11\n",
    "    M_3 = A_11 * (B_12 - B_22)\n",
    "    M_4 = A_22 * (B_21 - B_11)\n",
    "    M_5 = (A_11 + A_12) * B_22\n",
    "    M_6 = (A_21 - A_11) * (B_11 + B_12)\n",
    "    M_7 = (A_12 - A_22) * (B_21 + B_22)\n",
    "\n",
    "    C_11 = M_1 + M_4 - M_5 + M_7\n",
    "    C_12 = M_3 + M_5\n",
    "    C_21 = M_2 + M_4\n",
    "    C_22 = M_1 - M_2 + M_3 + M_6\n",
    "\n",
    "    C = [C_11 C_12;\n",
    "         C_21 C_22]\n",
    "\n",
    "    \n",
    "    return C\n",
    "end"
   ]
  },
  {
   "cell_type": "code",
   "execution_count": 53,
   "id": "6ef60442-91eb-436b-a50c-466bebba80a5",
   "metadata": {},
   "outputs": [
    {
     "data": {
      "text/plain": [
       "confirm_matrices (generic function with 1 method)"
      ]
     },
     "execution_count": 53,
     "metadata": {},
     "output_type": "execute_result"
    }
   ],
   "source": [
    "function confirm_matrices(A, B)\n",
    "    return (A == B)\n",
    "end"
   ]
  },
  {
   "cell_type": "code",
   "execution_count": 62,
   "id": "51bf5fc7-7628-48eb-9054-76b648d0cf57",
   "metadata": {},
   "outputs": [
    {
     "data": {
      "text/plain": [
       "true"
      ]
     },
     "execution_count": 62,
     "metadata": {},
     "output_type": "execute_result"
    }
   ],
   "source": [
    "# create two random matrix references\n",
    "A = rand([0, 1], 100, 100)\n",
    "B = rand([0, 1], 100, 100)\n",
    "\n",
    "C_strassen = naive_strassens(A, B)\n",
    "C_regular = A * B\n",
    "confirm_matrices(C_strassen, C_regular)"
   ]
  },
  {
   "cell_type": "code",
   "execution_count": 104,
   "id": "550a243f-5357-45b0-9cd3-88001e294498",
   "metadata": {},
   "outputs": [
    {
     "data": {
      "text/plain": [
       "get_blocks (generic function with 1 method)"
      ]
     },
     "execution_count": 104,
     "metadata": {},
     "output_type": "execute_result"
    }
   ],
   "source": [
    "function get_blocks(A)\n",
    "    n, _ = size(A)\n",
    "    block_dim = Int64(n/2)\n",
    "    A = pad_matrix(A)\n",
    "\n",
    "    A_11 = A[1:block_dim, 1:block_dim]\n",
    "    A_12 = A[1:block_dim, block_dim+1:end]\n",
    "    A_21 = A[block_dim+1:end, 1:block_dim]\n",
    "    A_22 = A[block_dim+1:end, block_dim+1:end]\n",
    "\n",
    "\n",
    "    return A_11, A_12, A_21, A_22\n",
    "end"
   ]
  },
  {
   "cell_type": "code",
   "execution_count": 107,
   "id": "3fab0adc-bd55-4029-8459-1a432a87da45",
   "metadata": {},
   "outputs": [
    {
     "data": {
      "text/plain": [
       "strassens (generic function with 1 method)"
      ]
     },
     "execution_count": 107,
     "metadata": {},
     "output_type": "execute_result"
    }
   ],
   "source": [
    "function strassens(A, B)\n",
    "    n, _ = size(A)\n",
    "    block_dim = n/2\n",
    "\n",
    "    if n == 1\n",
    "        return (A[1][1] * B[1][1])\n",
    "    end\n",
    "\n",
    "    A_11, A_12, A_21, A_22 = get_blocks(A)\n",
    "    B_11, B_12, B_21, B_22 = get_blocks(B)\n",
    "\n",
    "    \n",
    "    M_1 = strassens((A_11 + A_22), (B_11 + B_22))\n",
    "    M_2 = strassens((A_21 + A_22), B_11)\n",
    "    M_3 = strassens(A_11, (B_12 - B_22))\n",
    "    M_4 = strassens(A_22, (B_21 - B_11))\n",
    "    M_5 = strassens((A_11 + A_12), B_22)\n",
    "    M_6 = strassens((A_21 - A_11), (B_11 + B_12))\n",
    "    M_7 = strassens((A_12 - A_22), (B_21 + B_22))\n",
    "\n",
    "    C_11 = M_1 + M_4 - M_5 + M_7\n",
    "    C_12 = M_3 + M_5\n",
    "    C_21 = M_2 + M_4\n",
    "    C_22 = M_1 - M_2 + M_3 + M_6\n",
    "\n",
    "    C = [C_11 C_12;\n",
    "         C_21 C_22]\n",
    "\n",
    "    return C\n",
    "end"
   ]
  },
  {
   "cell_type": "code",
   "execution_count": 108,
   "id": "97017d77-9185-46e2-a234-eced5b1ca43a",
   "metadata": {},
   "outputs": [
    {
     "ename": "LoadError",
     "evalue": "DimensionMismatch: dimensions must match: a has dims (Base.OneTo(10), Base.OneTo(10)), b has dims (Base.OneTo(22), Base.OneTo(22)), mismatch at 1",
     "output_type": "error",
     "traceback": [
      "DimensionMismatch: dimensions must match: a has dims (Base.OneTo(10), Base.OneTo(10)), b has dims (Base.OneTo(22), Base.OneTo(22)), mismatch at 1",
      "",
      "Stacktrace:",
      " [1] promote_shape",
      "   @ ./indices.jl:178 [inlined]",
      " [2] promote_shape(a::Matrix{Int64}, b::Matrix{Int64})",
      "   @ Base ./indices.jl:169",
      " [3] +(A::Matrix{Int64}, Bs::Matrix{Int64})",
      "   @ Base ./arraymath.jl:14",
      " [4] strassens(A::Matrix{Int64}, B::Matrix{Int64})",
      "   @ Main ./In[107]:13",
      " [5] top-level scope",
      "   @ In[108]:4"
     ]
    }
   ],
   "source": [
    "A = rand([0, 1], 20, 20)\n",
    "B = rand([0, 1], 20, 20)\n",
    "\n",
    "C_strassen = strassens(A, B)\n",
    "print(size(C_strassen))\n",
    "C_regular = A * B\n",
    "\n",
    "confirm_matrices(C_strassen, C_regular)"
   ]
  },
  {
   "cell_type": "code",
   "execution_count": null,
   "id": "04cbbc4c-d70b-465f-9580-b4d389e758a5",
   "metadata": {},
   "outputs": [],
   "source": []
  }
 ],
 "metadata": {
  "kernelspec": {
   "display_name": "Julia 1.9.3",
   "language": "julia",
   "name": "julia-1.9"
  },
  "language_info": {
   "file_extension": ".jl",
   "mimetype": "application/julia",
   "name": "julia",
   "version": "1.9.3"
  }
 },
 "nbformat": 4,
 "nbformat_minor": 5
}
