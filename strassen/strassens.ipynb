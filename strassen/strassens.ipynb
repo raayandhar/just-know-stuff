{
 "cells": [
  {
   "cell_type": "code",
   "execution_count": 32,
   "id": "2962c9b5-ae70-427a-b652-bb21bc812a1d",
   "metadata": {},
   "outputs": [],
   "source": [
    "# This is a quick re-impl of Strassen's algorithm to understand it better\n",
    "# I should go back and really try to speed it up with C++ or something\n",
    "# It only has speedups on massively dense matrices - order 10^4 apparently\n",
    "# It's very slow here and I don't exactly know why? I suspect it's because of memory allocation\n",
    "\n",
    "# this is a great resource I used\n",
    "# https://stanford.edu/~rezab/classes/cme323/S16/notes/Lecture03/cme323_lec3.pdf\n",
    "# https://www.cs.cmu.edu/afs/cs/academic/class/15750-s17/ScribeNotes/lecture1.pdf\n",
    "# I plan on parallelizing"
   ]
  },
  {
   "cell_type": "code",
   "execution_count": 33,
   "id": "4a4080ee-08e5-42a8-9290-df6c2e0eb07c",
   "metadata": {},
   "outputs": [],
   "source": [
    "using LinearAlgebra"
   ]
  },
  {
   "cell_type": "code",
   "execution_count": 34,
   "id": "a30a1500-3ff0-43dd-92ea-8c2ed3f215ed",
   "metadata": {},
   "outputs": [
    {
     "data": {
      "text/plain": [
       "4×4 Matrix{Int64}:\n",
       " 0  1  0  1\n",
       " 0  0  0  1\n",
       " 0  0  1  0\n",
       " 1  1  0  1"
      ]
     },
     "execution_count": 34,
     "metadata": {},
     "output_type": "execute_result"
    }
   ],
   "source": [
    "# create a random matrix reference\n",
    "matrix = rand([0, 1], 4, 4)"
   ]
  },
  {
   "cell_type": "code",
   "execution_count": 35,
   "id": "8a3d2244-388f-4e1b-9583-acd05043119f",
   "metadata": {},
   "outputs": [
    {
     "data": {
      "text/plain": [
       "naive_strassens (generic function with 1 method)"
      ]
     },
     "execution_count": 35,
     "metadata": {},
     "output_type": "execute_result"
    }
   ],
   "source": [
    "# This is not actually Strassen's algorithm. Strassen's algorithm is recursive.\n",
    "function naive_strassens(A, B)\n",
    "    n, _ = size(A)\n",
    "    block_dim = Int64(n/2)\n",
    "\n",
    "    A_11 = A[1:block_dim, 1:block_dim]\n",
    "    A_12 = A[1:block_dim, block_dim+1:end]\n",
    "    A_21 = A[block_dim+1:end, 1:block_dim]\n",
    "    A_22 = A[block_dim+1:end, block_dim+1:end]\n",
    "\n",
    "    B_11 = B[1:block_dim, 1:block_dim]\n",
    "    B_12 = B[1:block_dim, block_dim+1:end]\n",
    "    B_21 = B[block_dim+1:end, 1:block_dim]\n",
    "    B_22 = B[block_dim+1:end, block_dim+1:end]\n",
    "    \n",
    "    M_1 = (A_11 + A_22) * (B_11 + B_22)\n",
    "    M_2 = (A_21 + A_22) * B_11\n",
    "    M_3 = A_11 * (B_12 - B_22)\n",
    "    M_4 = A_22 * (B_21 - B_11)\n",
    "    M_5 = (A_11 + A_12) * B_22\n",
    "    M_6 = (A_21 - A_11) * (B_11 + B_12)\n",
    "    M_7 = (A_12 - A_22) * (B_21 + B_22)\n",
    "\n",
    "    C_11 = M_1 + M_4 - M_5 + M_7\n",
    "    C_12 = M_3 + M_5\n",
    "    C_21 = M_2 + M_4\n",
    "    C_22 = M_1 - M_2 + M_3 + M_6\n",
    "\n",
    "    C = [C_11 C_12;\n",
    "         C_21 C_22]\n",
    "\n",
    "    \n",
    "    return C\n",
    "end"
   ]
  },
  {
   "cell_type": "code",
   "execution_count": 36,
   "id": "6ef60442-91eb-436b-a50c-466bebba80a5",
   "metadata": {},
   "outputs": [
    {
     "data": {
      "text/plain": [
       "confirm_matrices (generic function with 1 method)"
      ]
     },
     "execution_count": 36,
     "metadata": {},
     "output_type": "execute_result"
    }
   ],
   "source": [
    "function confirm_matrices(A, B)\n",
    "    return (A == B)\n",
    "end"
   ]
  },
  {
   "cell_type": "code",
   "execution_count": 37,
   "id": "51bf5fc7-7628-48eb-9054-76b648d0cf57",
   "metadata": {},
   "outputs": [
    {
     "data": {
      "text/plain": [
       "true"
      ]
     },
     "execution_count": 37,
     "metadata": {},
     "output_type": "execute_result"
    }
   ],
   "source": [
    "# create two random matrix references\n",
    "A = rand([0, 1], 100, 100)\n",
    "B = rand([0, 1], 100, 100)\n",
    "\n",
    "C_strassen = naive_strassens(A, B)\n",
    "C_regular = A * B\n",
    "confirm_matrices(C_strassen, C_regular)"
   ]
  },
  {
   "cell_type": "code",
   "execution_count": 38,
   "id": "550a243f-5357-45b0-9cd3-88001e294498",
   "metadata": {},
   "outputs": [
    {
     "data": {
      "text/plain": [
       "get_blocks (generic function with 1 method)"
      ]
     },
     "execution_count": 38,
     "metadata": {},
     "output_type": "execute_result"
    }
   ],
   "source": [
    "function get_blocks(A)\n",
    "    n, _ = size(A)\n",
    "    block_dim = Int64(n/2)\n",
    "    \n",
    "    A_11 = A[1:block_dim, 1:block_dim]\n",
    "    A_12 = A[1:block_dim, block_dim+1:end]\n",
    "    A_21 = A[block_dim+1:end, 1:block_dim]\n",
    "    A_22 = A[block_dim+1:end, block_dim+1:end]\n",
    "\n",
    "\n",
    "    return A_11, A_12, A_21, A_22\n",
    "end"
   ]
  },
  {
   "cell_type": "code",
   "execution_count": 39,
   "id": "3fab0adc-bd55-4029-8459-1a432a87da45",
   "metadata": {},
   "outputs": [
    {
     "data": {
      "text/plain": [
       "strassens (generic function with 1 method)"
      ]
     },
     "execution_count": 39,
     "metadata": {},
     "output_type": "execute_result"
    }
   ],
   "source": [
    "function strassens(A, B)\n",
    "    n, _ = size(A)\n",
    "    block_dim = n/2\n",
    "\n",
    "    if n == 1\n",
    "        return (A[1][1] * B[1][1])\n",
    "    end\n",
    "\n",
    "    A_11, A_12, A_21, A_22 = get_blocks(A)\n",
    "    B_11, B_12, B_21, B_22 = get_blocks(B)\n",
    "\n",
    "    \n",
    "    M_1 = strassens((A_11 + A_22), (B_11 + B_22))\n",
    "    M_2 = strassens((A_21 + A_22), B_11)\n",
    "    M_3 = strassens(A_11, (B_12 - B_22))\n",
    "    M_4 = strassens(A_22, (B_21 - B_11))\n",
    "    M_5 = strassens((A_11 + A_12), B_22)\n",
    "    M_6 = strassens((A_21 - A_11), (B_11 + B_12))\n",
    "    M_7 = strassens((A_12 - A_22), (B_21 + B_22))\n",
    "\n",
    "    C_11 = M_1 + M_4 - M_5 + M_7\n",
    "    C_12 = M_3 + M_5\n",
    "    C_21 = M_2 + M_4\n",
    "    C_22 = M_1 - M_2 + M_3 + M_6\n",
    "\n",
    "    C = [C_11 C_12;\n",
    "         C_21 C_22]\n",
    "\n",
    "    return C\n",
    "end"
   ]
  },
  {
   "cell_type": "code",
   "execution_count": 40,
   "id": "97017d77-9185-46e2-a234-eced5b1ca43a",
   "metadata": {},
   "outputs": [
    {
     "data": {
      "text/plain": [
       "true"
      ]
     },
     "execution_count": 40,
     "metadata": {},
     "output_type": "execute_result"
    }
   ],
   "source": [
    "A = rand([0, 1], 256, 256)\n",
    "B = rand([0, 1], 256, 256)\n",
    "\n",
    "C_strassen = strassens(A, B)\n",
    "C_regular = A * B\n",
    "\n",
    "confirm_matrices(C_strassen, C_regular)"
   ]
  },
  {
   "cell_type": "code",
   "execution_count": 41,
   "id": "04cbbc4c-d70b-465f-9580-b4d389e758a5",
   "metadata": {},
   "outputs": [
    {
     "data": {
      "text/plain": [
       "strassens_time (generic function with 1 method)"
      ]
     },
     "execution_count": 41,
     "metadata": {},
     "output_type": "execute_result"
    }
   ],
   "source": [
    "function strassens_time(A, B)\n",
    "    @time strassens(A, B)\n",
    "end"
   ]
  },
  {
   "cell_type": "code",
   "execution_count": 42,
   "id": "8fab7cf7-293a-4e84-9ece-42359fe8f336",
   "metadata": {},
   "outputs": [
    {
     "data": {
      "text/plain": [
       "regular_time (generic function with 1 method)"
      ]
     },
     "execution_count": 42,
     "metadata": {},
     "output_type": "execute_result"
    }
   ],
   "source": [
    "function regular_time(A, B)\n",
    "    @time A*B\n",
    "end"
   ]
  },
  {
   "cell_type": "code",
   "execution_count": 43,
   "id": "1c3ca7b1-427f-4231-8c50-923ba7d6457e",
   "metadata": {},
   "outputs": [
    {
     "name": "stdout",
     "output_type": "stream",
     "text": [
      "  8.352625 seconds (138.17 M allocations: 9.948 GiB, 9.75% gc time)\n",
      "  0.069124 seconds (5 allocations: 2.030 MiB)\n"
     ]
    },
    {
     "data": {
      "text/plain": [
       "512×512 Matrix{Int64}:\n",
       " 141  153  126  138  150  136  136  133  …  136  147  125  135  132  134  129\n",
       " 133  141  129  130  135  138  134  139     129  139  122  129  144  137  120\n",
       " 142  143  122  126  139  132  129  138     125  133  125  124  135  124  117\n",
       " 126  134  120  137  132  121  121  129     132  126  122  120  122  127  122\n",
       " 139  137  125  126  144  134  135  135     132  137  125  127  139  136  117\n",
       " 126  131  116  122  131  126  120  120  …  122  122  132  110  116  127  117\n",
       " 136  138  124  142  134  133  134  139     133  132  131  130  129  135  128\n",
       " 136  135  112  116  134  126  135  133     129  141  125  127  134  135  120\n",
       " 128  143  122  133  126  129  122  131     132  146  128  118  133  136  126\n",
       " 126  131  125  139  130  140  131  131     123  126  130  123  141  129  125\n",
       " 130  139  127  144  143  137  130  130  …  142  130  133  129  136  139  129\n",
       " 130  126  122  130  132  122  134  130     133  131  125  114  131  130  133\n",
       " 133  146  128  133  139  129  132  136     133  137  136  123  133  127  113\n",
       "   ⋮                        ⋮            ⋱    ⋮                        ⋮  \n",
       " 134  133  121  128  133  125  132  139  …  129  141  141  125  128  136  122\n",
       " 115  116  108  119  116  111   96  120     115  122  117  100  114  113  103\n",
       " 142  141  113  126  138  136  119  129     129  133  135  123  123  130  118\n",
       " 123  119  115  121  130  126  119  123     126  128  124  111  127  126  110\n",
       " 124  132  107  120  130  130  125  116     123  121  116  110  134  118  120\n",
       " 134  123  117  131  122  120  120  124  …  125  136  112  124  117  125  108\n",
       " 129  138  128  134  136  135  126  129     131  137  133  136  129  131  116\n",
       " 122  145  127  134  138  122  128  124     131  143  135  127  132  135  127\n",
       " 119  134  121  141  136  120  118  129     136  143  127  124  140  140  126\n",
       " 139  134  127  137  136  133  128  127     126  139  134  122  142  132  124\n",
       " 124  150  132  149  142  146  138  140  …  139  152  126  134  134  138  137\n",
       " 117  134  100  134  133  125  114  127     121  120  122  109  123  110  113"
      ]
     },
     "execution_count": 43,
     "metadata": {},
     "output_type": "execute_result"
    }
   ],
   "source": [
    "A = rand([0, 1], 512, 512)\n",
    "B = rand([0, 1], 512, 512)\n",
    "\n",
    "strassens_time(A, B)\n",
    "regular_time(A, B)"
   ]
  },
  {
   "cell_type": "code",
   "execution_count": 44,
   "id": "5155c63a-edd0-4728-b9ff-cdb3258caf1b",
   "metadata": {},
   "outputs": [],
   "source": [
    "# looks like we are allocating way to much memory. Gotta re-impl this more \n",
    "# carefully in something like CUDA to see the full speed ups!"
   ]
  },
  {
   "cell_type": "code",
   "execution_count": null,
   "id": "e8fb1c7e-3d82-4586-a220-3f5b03d1c398",
   "metadata": {},
   "outputs": [],
   "source": []
  }
 ],
 "metadata": {
  "kernelspec": {
   "display_name": "Julia 1.9.3",
   "language": "julia",
   "name": "julia-1.9"
  },
  "language_info": {
   "file_extension": ".jl",
   "mimetype": "application/julia",
   "name": "julia",
   "version": "1.9.3"
  }
 },
 "nbformat": 4,
 "nbformat_minor": 5
}
