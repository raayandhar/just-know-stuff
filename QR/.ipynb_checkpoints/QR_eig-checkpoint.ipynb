{
 "cells": [
  {
   "cell_type": "code",
   "execution_count": 185,
   "id": "d8e112c4-af3d-42b0-91df-8fd9bb27b20b",
   "metadata": {},
   "outputs": [],
   "source": [
    "#QR algorithm for calculating eigenvalues by repeatedly getting it into a form that is upper-triangular\n",
    "# no idea how it works????\n",
    "# https://people.inf.ethz.ch/arbenz/ewp/Lnotes/chapter4.pdf"
   ]
  },
  {
   "cell_type": "code",
   "execution_count": 186,
   "id": "b99dbde7-e6c3-41e5-8877-e39f83a85f8d",
   "metadata": {},
   "outputs": [],
   "source": [
    "using LinearAlgebra"
   ]
  },
  {
   "cell_type": "code",
   "execution_count": 187,
   "id": "765c1b3b-097c-4e48-a919-42205e091d0f",
   "metadata": {},
   "outputs": [
    {
     "data": {
      "text/plain": [
       "5×5 Matrix{Int64}:\n",
       " 29  39   5   6  22\n",
       " 43   2  62  94  33\n",
       " 66  15  96  32  51\n",
       " 67  97  52  63  67\n",
       " 25  81  69  88  94"
      ]
     },
     "execution_count": 187,
     "metadata": {},
     "output_type": "execute_result"
    }
   ],
   "source": [
    "A = rand(1:100, 5, 5)"
   ]
  },
  {
   "cell_type": "code",
   "execution_count": 188,
   "id": "8604f1bf-ac41-4120-971b-886d568d6441",
   "metadata": {},
   "outputs": [
    {
     "data": {
      "text/plain": [
       "5-element Vector{ComplexF64}:\n",
       " -59.14038571834057 + 0.0im\n",
       "  14.94418335858601 - 13.718619171826882im\n",
       "  14.94418335858601 + 13.718619171826882im\n",
       " 47.647238943230185 + 0.0im\n",
       " 265.60478005793806 + 0.0im"
      ]
     },
     "execution_count": 188,
     "metadata": {},
     "output_type": "execute_result"
    }
   ],
   "source": [
    "eigenvals = eigvals(A)"
   ]
  },
  {
   "cell_type": "code",
   "execution_count": 189,
   "id": "ef188539-94a7-4ad0-ae04-81b034d0426b",
   "metadata": {},
   "outputs": [
    {
     "data": {
      "text/plain": [
       "QR_algo (generic function with 1 method)"
      ]
     },
     "execution_count": 189,
     "metadata": {},
     "output_type": "execute_result"
    }
   ],
   "source": [
    "function QR_algo(A, k)\n",
    "    n, _ = size(A)\n",
    "    U = I(n)\n",
    "    for i in 1:k\n",
    "        Q, R = qr(A)\n",
    "        A = R*Q\n",
    "        U = U*Q\n",
    "    end\n",
    "\n",
    "    U_ = inv(U)\n",
    "    T = A\n",
    "    \n",
    "    return U, T, U_\n",
    "end"
   ]
  },
  {
   "cell_type": "code",
   "execution_count": 190,
   "id": "6cf252c5-17e9-4948-907d-c979d336e8ce",
   "metadata": {},
   "outputs": [
    {
     "data": {
      "text/plain": [
       "5×5 Matrix{Float64}:\n",
       " 265.605    9.99314   13.4846   49.6475   -57.7981\n",
       "   0.0    -59.1404    46.4786  -15.3114   -30.5541\n",
       "   0.0     -9.4e-322  47.6472   33.1942     5.95083\n",
       "   0.0      0.0        0.0       5.23099    6.32393\n",
       "   0.0      0.0        0.0     -44.679     24.6574"
      ]
     },
     "execution_count": 190,
     "metadata": {},
     "output_type": "execute_result"
    }
   ],
   "source": [
    "U, T, U_ = QR_algo(A, 10000)\n",
    "T"
   ]
  },
  {
   "cell_type": "code",
   "execution_count": 191,
   "id": "70137c5e-3037-4195-9dd8-6da9a6980068",
   "metadata": {},
   "outputs": [
    {
     "data": {
      "text/plain": [
       "5×5 Matrix{Float64}:\n",
       " 29.0  39.0   5.0   6.0  22.0\n",
       " 43.0   2.0  62.0  94.0  33.0\n",
       " 66.0  15.0  96.0  32.0  51.0\n",
       " 67.0  97.0  52.0  63.0  67.0\n",
       " 25.0  81.0  69.0  88.0  94.0"
      ]
     },
     "execution_count": 191,
     "metadata": {},
     "output_type": "execute_result"
    }
   ],
   "source": [
    "A = U * T * U_\n",
    "A"
   ]
  },
  {
   "cell_type": "code",
   "execution_count": 192,
   "id": "d4de521e-9bf5-4dc1-93f2-d03e36fd11be",
   "metadata": {},
   "outputs": [
    {
     "data": {
      "text/plain": [
       "QR_eig (generic function with 2 methods)"
      ]
     },
     "execution_count": 192,
     "metadata": {},
     "output_type": "execute_result"
    }
   ],
   "source": [
    "function QR_eig(A, k)\n",
    "    _, T, _ = QR_algo(A, k)\n",
    "    n, _ = size(A)\n",
    "    \n",
    "    eigenvalues = []\n",
    "    \n",
    "    for i in 1:n\n",
    "        eigenvalue = T[i, i]\n",
    "        push!(eigenvalues, eigenvalue)\n",
    "    end\n",
    "\n",
    "    return eigenvalues\n",
    "end"
   ]
  },
  {
   "cell_type": "code",
   "execution_count": 193,
   "id": "2e8f84fa-befb-4f80-a11a-575e4af8c447",
   "metadata": {},
   "outputs": [
    {
     "data": {
      "text/plain": [
       "5-element Vector{Any}:\n",
       " 265.6047800579388\n",
       " -59.140385718340184\n",
       "  47.64723894323007\n",
       "   5.230989099848783\n",
       "  24.657377617324652"
      ]
     },
     "execution_count": 193,
     "metadata": {},
     "output_type": "execute_result"
    }
   ],
   "source": [
    "eigenvalues = QR_eig(A, 10000)"
   ]
  },
  {
   "cell_type": "code",
   "execution_count": 197,
   "id": "78611b5d-8041-491e-981f-7b404a0bc9d5",
   "metadata": {},
   "outputs": [
    {
     "data": {
      "text/plain": [
       "5-element Vector{ComplexF64}:\n",
       " -59.14038571834057 + 0.0im\n",
       "  14.94418335858601 - 13.718619171826882im\n",
       "  14.94418335858601 + 13.718619171826882im\n",
       " 47.647238943230185 + 0.0im\n",
       " 265.60478005793806 + 0.0im"
      ]
     },
     "execution_count": 197,
     "metadata": {},
     "output_type": "execute_result"
    }
   ],
   "source": [
    "eigenvals"
   ]
  },
  {
   "cell_type": "code",
   "execution_count": null,
   "id": "f1f675b9-f6e6-403f-af04-91c067980fd5",
   "metadata": {},
   "outputs": [],
   "source": []
  }
 ],
 "metadata": {
  "kernelspec": {
   "display_name": "Julia 1.9.3",
   "language": "julia",
   "name": "julia-1.9"
  },
  "language_info": {
   "file_extension": ".jl",
   "mimetype": "application/julia",
   "name": "julia",
   "version": "1.9.3"
  }
 },
 "nbformat": 4,
 "nbformat_minor": 5
}
